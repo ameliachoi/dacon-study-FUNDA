{
  "nbformat": 4,
  "nbformat_minor": 0,
  "metadata": {
    "colab": {
      "name": "dacon-funda-study.ipynb",
      "provenance": [],
      "mount_file_id": "1ju8xbDmdmRdtvl6qpwSPRFmjmq2fe9l3",
      "authorship_tag": "ABX9TyMUduNBO91cqOH0n1qVo8i5",
      "include_colab_link": true
    },
    "kernelspec": {
      "name": "python3",
      "display_name": "Python 3"
    }
  },
  "cells": [
    {
      "cell_type": "markdown",
      "metadata": {
        "id": "view-in-github",
        "colab_type": "text"
      },
      "source": [
        "<a href=\"https://colab.research.google.com/github/ameliachoi/dacon-study-FUNDA/blob/master/dacon_funda_study.ipynb\" target=\"_parent\"><img src=\"https://colab.research.google.com/assets/colab-badge.svg\" alt=\"Open In Colab\"/></a>"
      ]
    },
    {
      "cell_type": "markdown",
      "metadata": {
        "id": "Bi6Sycg0d9Wx",
        "colab_type": "text"
      },
      "source": [
        "# DACON FUNDA : Predict Market Sales"
      ]
    },
    {
      "cell_type": "markdown",
      "metadata": {
        "id": "ym3UdOTPeCPr",
        "colab_type": "text"
      },
      "source": [
        "## Index\n",
        "\n",
        "1. Data load & Resampling\n",
        "2. EDA\n",
        "3. Modeling - Time Series\n",
        "4. Modeling - Regression\n",
        "5. Modeling - Deep Neural Network"
      ]
    },
    {
      "cell_type": "markdown",
      "metadata": {
        "id": "TKPLbih5eU5x",
        "colab_type": "text"
      },
      "source": [
        "## Data Field\n",
        "\n",
        "- `store_id` : 상점 고유 아이디\n",
        "- `card_id` : 사용한 카드의 고유 아이디\n",
        "- `card_company` : 비식별화된 카드 회사\n",
        "- `transacted_date` : 거래 날짜\n",
        "- `transacted_time` : 거래 시간(시:분)\n",
        "- `installment_term` : 할부 개월 수 (포인트 사용 시 (60개월 + 실제 할부개원)을 할부개월수에 기재한다)\n",
        "- `region` : 상점의 지역\n",
        "- `type_of_business` : 상점의 업종\n",
        "- `amount` : 거래액(단위는 원이 아님)"
      ]
    },
    {
      "cell_type": "markdown",
      "metadata": {
        "id": "YsK9Wag7e7Mr",
        "colab_type": "text"
      },
      "source": [
        "---"
      ]
    },
    {
      "cell_type": "code",
      "metadata": {
        "id": "YvjKDV2Uco5D",
        "colab_type": "code",
        "colab": {}
      },
      "source": [
        "import warnings\n",
        "warnings.filterwarnings('ignore')"
      ],
      "execution_count": 1,
      "outputs": []
    },
    {
      "cell_type": "code",
      "metadata": {
        "id": "nqvdfeUKfDOD",
        "colab_type": "code",
        "colab": {}
      },
      "source": [
        "# basic setting\n",
        "import itertools\n",
        "import numpy as np\n",
        "import pandas as pd\n",
        "import seaborn as sns\n",
        "import matplotlib as mpl\n",
        "import matplotlib.pyplot as plt\n",
        "from sklearn.externals import joblib\n",
        "from sklearn.metrics import make_scorer\n",
        "\n",
        "# 시계열\n",
        "from fbprophet import Prophet\n",
        "from datetime import datetime as dt\n",
        "from statsmodels.tsa.arima_model import ARIMA\n",
        "from dateutil.relativedelta import relativedelta\n",
        "from statsmodels.tsa.api import SimpleExpSmoothing, Holt, ExponentialSmoothing\n",
        "\n",
        "# 회귀분석\n",
        "from sklearn.svm import SVR\n",
        "from xgboost import XGBRegressor\n",
        "from sklearn.ensemble import RandomForestRegressor\n",
        "from sklearn.pipeline import make_pipeline, Pipeline\n",
        "from sklearn.ensemble import GradientBoostingRegressor\n",
        "from sklearn.model_selection import KFold, cross_val_score, GridSearchCV\n",
        "from sklearn.linear_model import LinearRegression, Ridge, Lasso, ElasticNet\n",
        "\n",
        "# deep neural network\n",
        "from keras.layers.core import Dense, Activation, Dropout\n",
        "from keras.layers.recurrent import LSTM\n",
        "from keras.models import Sequential\n",
        "import time\n",
        "\n",
        "# setting\n",
        "%matplotlib inline\n",
        "pd.options.display.max_columns = 400\n",
        "pd.options.display.float_format = '{:.5f}'.format \n"
      ],
      "execution_count": 4,
      "outputs": []
    },
    {
      "cell_type": "markdown",
      "metadata": {
        "id": "j8it5HzpiUC5",
        "colab_type": "text"
      },
      "source": [
        "### Evaluate Metric\n",
        "\n",
        "- MAE(Mean Absolute Error) : 절대값 오차의 평균\n",
        "- Validation을 위한 함수 생성 및 make scorer\n"
      ]
    },
    {
      "cell_type": "code",
      "metadata": {
        "id": "lkefo2QoiTr7",
        "colab_type": "code",
        "colab": {
          "base_uri": "https://localhost:8080/",
          "height": 35
        },
        "outputId": "52db5109-721c-4af4-c6f2-5eed0d025e0c"
      },
      "source": [
        "def mae(prediction, correct):\n",
        "  prediction = np.array(prediction)\n",
        "  correct = np.array(correct)\n",
        "\n",
        "  difference = correct - prediction\n",
        "  abs_val = abs(difference)\n",
        "\n",
        "  score = abs_val.mean()\n",
        "\n",
        "  return score\n",
        "\n",
        "mae_scorer = make_scorer(mae)\n",
        "mae_scorer"
      ],
      "execution_count": 5,
      "outputs": [
        {
          "output_type": "execute_result",
          "data": {
            "text/plain": [
              "make_scorer(mae)"
            ]
          },
          "metadata": {
            "tags": []
          },
          "execution_count": 5
        }
      ]
    },
    {
      "cell_type": "markdown",
      "metadata": {
        "id": "v60nUbQ9nRGr",
        "colab_type": "text"
      },
      "source": [
        "### Step 1. Data Load & Resampling"
      ]
    },
    {
      "cell_type": "markdown",
      "metadata": {
        "id": "ENkXEt3ci6JL",
        "colab_type": "text"
      },
      "source": [
        "#### Issue\n",
        "\n",
        "1. 예측해야 하는 범위는 3개월인데 데이터는 시간 단위로 나뉘어져 있음\n",
        "\n",
        "- 월 단위로 resampling 후, forecast 범위를 3개월로 지정해야 해결\n",
        "\n",
        "2. 1967개의 `store_id`가 각각 trend와 seasonality를 가지고 있음\n",
        "\n",
        "- 같은 알고리즘에서 각 `store_id`별로 parameter 조절\n",
        "\n",
        "3. 예측 날짜는 2019-03 ~ 2019-05로 동일하나, 제공 데이터의 마지막 날짜는 차이가 존재함\n",
        "\n",
        "- 마지막 날짜부터 3개월만 예측하다 제출\n",
        "\n",
        "- 예측 기간이 길어질수록 오차가 크게 발생해 바로 뒤 3개월만 예측하는 것이 정확도가 높았음"
      ]
    },
    {
      "cell_type": "code",
      "metadata": {
        "id": "694Fg1xwhXMs",
        "colab_type": "code",
        "colab": {}
      },
      "source": [
        "df_train = pd.read_csv('/content/drive/My Drive/Colab Notebooks/data09/funda_train.csv')\n",
        "df_sub = pd.read_csv('/content/drive/My Drive/Colab Notebooks/data09/submission.csv')"
      ],
      "execution_count": 7,
      "outputs": []
    },
    {
      "cell_type": "code",
      "metadata": {
        "id": "lJwz6qejkcKq",
        "colab_type": "code",
        "colab": {
          "base_uri": "https://localhost:8080/",
          "height": 224
        },
        "outputId": "9b4102c7-f16a-4032-bf88-51babddfcf9b"
      },
      "source": [
        "df_train.head()"
      ],
      "execution_count": 10,
      "outputs": [
        {
          "output_type": "execute_result",
          "data": {
            "text/html": [
              "<div>\n",
              "<style scoped>\n",
              "    .dataframe tbody tr th:only-of-type {\n",
              "        vertical-align: middle;\n",
              "    }\n",
              "\n",
              "    .dataframe tbody tr th {\n",
              "        vertical-align: top;\n",
              "    }\n",
              "\n",
              "    .dataframe thead th {\n",
              "        text-align: right;\n",
              "    }\n",
              "</style>\n",
              "<table border=\"1\" class=\"dataframe\">\n",
              "  <thead>\n",
              "    <tr style=\"text-align: right;\">\n",
              "      <th></th>\n",
              "      <th>store_id</th>\n",
              "      <th>card_id</th>\n",
              "      <th>card_company</th>\n",
              "      <th>transacted_date</th>\n",
              "      <th>transacted_time</th>\n",
              "      <th>installment_term</th>\n",
              "      <th>region</th>\n",
              "      <th>type_of_business</th>\n",
              "      <th>amount</th>\n",
              "    </tr>\n",
              "  </thead>\n",
              "  <tbody>\n",
              "    <tr>\n",
              "      <th>0</th>\n",
              "      <td>0</td>\n",
              "      <td>0</td>\n",
              "      <td>b</td>\n",
              "      <td>2016-06-01</td>\n",
              "      <td>13:13</td>\n",
              "      <td>0</td>\n",
              "      <td>NaN</td>\n",
              "      <td>기타 미용업</td>\n",
              "      <td>1857.14286</td>\n",
              "    </tr>\n",
              "    <tr>\n",
              "      <th>1</th>\n",
              "      <td>0</td>\n",
              "      <td>1</td>\n",
              "      <td>h</td>\n",
              "      <td>2016-06-01</td>\n",
              "      <td>18:12</td>\n",
              "      <td>0</td>\n",
              "      <td>NaN</td>\n",
              "      <td>기타 미용업</td>\n",
              "      <td>857.14286</td>\n",
              "    </tr>\n",
              "    <tr>\n",
              "      <th>2</th>\n",
              "      <td>0</td>\n",
              "      <td>2</td>\n",
              "      <td>c</td>\n",
              "      <td>2016-06-01</td>\n",
              "      <td>18:52</td>\n",
              "      <td>0</td>\n",
              "      <td>NaN</td>\n",
              "      <td>기타 미용업</td>\n",
              "      <td>2000.00000</td>\n",
              "    </tr>\n",
              "    <tr>\n",
              "      <th>3</th>\n",
              "      <td>0</td>\n",
              "      <td>3</td>\n",
              "      <td>a</td>\n",
              "      <td>2016-06-01</td>\n",
              "      <td>20:22</td>\n",
              "      <td>0</td>\n",
              "      <td>NaN</td>\n",
              "      <td>기타 미용업</td>\n",
              "      <td>7857.14286</td>\n",
              "    </tr>\n",
              "    <tr>\n",
              "      <th>4</th>\n",
              "      <td>0</td>\n",
              "      <td>4</td>\n",
              "      <td>c</td>\n",
              "      <td>2016-06-02</td>\n",
              "      <td>11:06</td>\n",
              "      <td>0</td>\n",
              "      <td>NaN</td>\n",
              "      <td>기타 미용업</td>\n",
              "      <td>2000.00000</td>\n",
              "    </tr>\n",
              "  </tbody>\n",
              "</table>\n",
              "</div>"
            ],
            "text/plain": [
              "   store_id  card_id card_company transacted_date transacted_time  \\\n",
              "0         0        0            b      2016-06-01           13:13   \n",
              "1         0        1            h      2016-06-01           18:12   \n",
              "2         0        2            c      2016-06-01           18:52   \n",
              "3         0        3            a      2016-06-01           20:22   \n",
              "4         0        4            c      2016-06-02           11:06   \n",
              "\n",
              "   installment_term region type_of_business     amount  \n",
              "0                 0    NaN           기타 미용업 1857.14286  \n",
              "1                 0    NaN           기타 미용업  857.14286  \n",
              "2                 0    NaN           기타 미용업 2000.00000  \n",
              "3                 0    NaN           기타 미용업 7857.14286  \n",
              "4                 0    NaN           기타 미용업 2000.00000  "
            ]
          },
          "metadata": {
            "tags": []
          },
          "execution_count": 10
        }
      ]
    },
    {
      "cell_type": "code",
      "metadata": {
        "id": "y9IYwWaUkHP7",
        "colab_type": "code",
        "colab": {
          "base_uri": "https://localhost:8080/",
          "height": 35
        },
        "outputId": "7ec20215-decf-4405-fe9b-d24742ce8c1e"
      },
      "source": [
        "df_train.shape, df_sub.shape"
      ],
      "execution_count": 8,
      "outputs": [
        {
          "output_type": "execute_result",
          "data": {
            "text/plain": [
              "((6556613, 9), (1967, 2))"
            ]
          },
          "metadata": {
            "tags": []
          },
          "execution_count": 8
        }
      ]
    },
    {
      "cell_type": "code",
      "metadata": {
        "id": "sJSMJLHEkPVA",
        "colab_type": "code",
        "colab": {
          "base_uri": "https://localhost:8080/",
          "height": 89
        },
        "outputId": "5e987799-051c-4c81-c117-545b15f86378"
      },
      "source": [
        "df_train.columns"
      ],
      "execution_count": 9,
      "outputs": [
        {
          "output_type": "execute_result",
          "data": {
            "text/plain": [
              "Index(['store_id', 'card_id', 'card_company', 'transacted_date',\n",
              "       'transacted_time', 'installment_term', 'region', 'type_of_business',\n",
              "       'amount'],\n",
              "      dtype='object')"
            ]
          },
          "metadata": {
            "tags": []
          },
          "execution_count": 9
        }
      ]
    },
    {
      "cell_type": "code",
      "metadata": {
        "id": "htUw1JYXkSmQ",
        "colab_type": "code",
        "colab": {}
      },
      "source": [
        "# datetime으로 데이터 타입 바꾸기\n",
        "df_train['transacted_date'] = pd.to_datetime(df_train['transacted_date'])"
      ],
      "execution_count": 11,
      "outputs": []
    },
    {
      "cell_type": "code",
      "metadata": {
        "id": "4XUh1bI6kl6s",
        "colab_type": "code",
        "colab": {
          "base_uri": "https://localhost:8080/",
          "height": 224
        },
        "outputId": "d0e06841-a445-48a8-dfde-6cb817625b28"
      },
      "source": [
        "df_train.head()"
      ],
      "execution_count": 12,
      "outputs": [
        {
          "output_type": "execute_result",
          "data": {
            "text/html": [
              "<div>\n",
              "<style scoped>\n",
              "    .dataframe tbody tr th:only-of-type {\n",
              "        vertical-align: middle;\n",
              "    }\n",
              "\n",
              "    .dataframe tbody tr th {\n",
              "        vertical-align: top;\n",
              "    }\n",
              "\n",
              "    .dataframe thead th {\n",
              "        text-align: right;\n",
              "    }\n",
              "</style>\n",
              "<table border=\"1\" class=\"dataframe\">\n",
              "  <thead>\n",
              "    <tr style=\"text-align: right;\">\n",
              "      <th></th>\n",
              "      <th>store_id</th>\n",
              "      <th>card_id</th>\n",
              "      <th>card_company</th>\n",
              "      <th>transacted_date</th>\n",
              "      <th>transacted_time</th>\n",
              "      <th>installment_term</th>\n",
              "      <th>region</th>\n",
              "      <th>type_of_business</th>\n",
              "      <th>amount</th>\n",
              "    </tr>\n",
              "  </thead>\n",
              "  <tbody>\n",
              "    <tr>\n",
              "      <th>0</th>\n",
              "      <td>0</td>\n",
              "      <td>0</td>\n",
              "      <td>b</td>\n",
              "      <td>2016-06-01</td>\n",
              "      <td>13:13</td>\n",
              "      <td>0</td>\n",
              "      <td>NaN</td>\n",
              "      <td>기타 미용업</td>\n",
              "      <td>1857.14286</td>\n",
              "    </tr>\n",
              "    <tr>\n",
              "      <th>1</th>\n",
              "      <td>0</td>\n",
              "      <td>1</td>\n",
              "      <td>h</td>\n",
              "      <td>2016-06-01</td>\n",
              "      <td>18:12</td>\n",
              "      <td>0</td>\n",
              "      <td>NaN</td>\n",
              "      <td>기타 미용업</td>\n",
              "      <td>857.14286</td>\n",
              "    </tr>\n",
              "    <tr>\n",
              "      <th>2</th>\n",
              "      <td>0</td>\n",
              "      <td>2</td>\n",
              "      <td>c</td>\n",
              "      <td>2016-06-01</td>\n",
              "      <td>18:52</td>\n",
              "      <td>0</td>\n",
              "      <td>NaN</td>\n",
              "      <td>기타 미용업</td>\n",
              "      <td>2000.00000</td>\n",
              "    </tr>\n",
              "    <tr>\n",
              "      <th>3</th>\n",
              "      <td>0</td>\n",
              "      <td>3</td>\n",
              "      <td>a</td>\n",
              "      <td>2016-06-01</td>\n",
              "      <td>20:22</td>\n",
              "      <td>0</td>\n",
              "      <td>NaN</td>\n",
              "      <td>기타 미용업</td>\n",
              "      <td>7857.14286</td>\n",
              "    </tr>\n",
              "    <tr>\n",
              "      <th>4</th>\n",
              "      <td>0</td>\n",
              "      <td>4</td>\n",
              "      <td>c</td>\n",
              "      <td>2016-06-02</td>\n",
              "      <td>11:06</td>\n",
              "      <td>0</td>\n",
              "      <td>NaN</td>\n",
              "      <td>기타 미용업</td>\n",
              "      <td>2000.00000</td>\n",
              "    </tr>\n",
              "  </tbody>\n",
              "</table>\n",
              "</div>"
            ],
            "text/plain": [
              "   store_id  card_id card_company transacted_date transacted_time  \\\n",
              "0         0        0            b      2016-06-01           13:13   \n",
              "1         0        1            h      2016-06-01           18:12   \n",
              "2         0        2            c      2016-06-01           18:52   \n",
              "3         0        3            a      2016-06-01           20:22   \n",
              "4         0        4            c      2016-06-02           11:06   \n",
              "\n",
              "   installment_term region type_of_business     amount  \n",
              "0                 0    NaN           기타 미용업 1857.14286  \n",
              "1                 0    NaN           기타 미용업  857.14286  \n",
              "2                 0    NaN           기타 미용업 2000.00000  \n",
              "3                 0    NaN           기타 미용업 7857.14286  \n",
              "4                 0    NaN           기타 미용업 2000.00000  "
            ]
          },
          "metadata": {
            "tags": []
          },
          "execution_count": 12
        }
      ]
    },
    {
      "cell_type": "code",
      "metadata": {
        "id": "mdC-D8CWkpTJ",
        "colab_type": "code",
        "colab": {}
      },
      "source": [
        "frame_info = [(col, len(df_train[col].unique()), df_train[col].isnull().sum(), df_train[col].dtype, df_train[col].unique()[:5]) for col in df_train.columns]\n",
        "df_info = pd.DataFrame(frame_info, columns=['name', 'num_of_unique', 'num_of_nan', 'type', 'front5_values'])"
      ],
      "execution_count": 15,
      "outputs": []
    },
    {
      "cell_type": "code",
      "metadata": {
        "id": "1jA9fWkZlDpL",
        "colab_type": "code",
        "colab": {
          "base_uri": "https://localhost:8080/",
          "height": 345
        },
        "outputId": "27cf76b0-460e-45e4-8596-6df7a48fb7e4"
      },
      "source": [
        "df_info"
      ],
      "execution_count": 16,
      "outputs": [
        {
          "output_type": "execute_result",
          "data": {
            "text/html": [
              "<div>\n",
              "<style scoped>\n",
              "    .dataframe tbody tr th:only-of-type {\n",
              "        vertical-align: middle;\n",
              "    }\n",
              "\n",
              "    .dataframe tbody tr th {\n",
              "        vertical-align: top;\n",
              "    }\n",
              "\n",
              "    .dataframe thead th {\n",
              "        text-align: right;\n",
              "    }\n",
              "</style>\n",
              "<table border=\"1\" class=\"dataframe\">\n",
              "  <thead>\n",
              "    <tr style=\"text-align: right;\">\n",
              "      <th></th>\n",
              "      <th>name</th>\n",
              "      <th>num_of_unique</th>\n",
              "      <th>num_of_nan</th>\n",
              "      <th>type</th>\n",
              "      <th>front5_values</th>\n",
              "    </tr>\n",
              "  </thead>\n",
              "  <tbody>\n",
              "    <tr>\n",
              "      <th>0</th>\n",
              "      <td>store_id</td>\n",
              "      <td>1967</td>\n",
              "      <td>0</td>\n",
              "      <td>int64</td>\n",
              "      <td>[0, 1, 2, 4, 5]</td>\n",
              "    </tr>\n",
              "    <tr>\n",
              "      <th>1</th>\n",
              "      <td>card_id</td>\n",
              "      <td>3950001</td>\n",
              "      <td>0</td>\n",
              "      <td>int64</td>\n",
              "      <td>[0, 1, 2, 3, 4]</td>\n",
              "    </tr>\n",
              "    <tr>\n",
              "      <th>2</th>\n",
              "      <td>card_company</td>\n",
              "      <td>8</td>\n",
              "      <td>0</td>\n",
              "      <td>object</td>\n",
              "      <td>[b, h, c, a, f]</td>\n",
              "    </tr>\n",
              "    <tr>\n",
              "      <th>3</th>\n",
              "      <td>transacted_date</td>\n",
              "      <td>1003</td>\n",
              "      <td>0</td>\n",
              "      <td>datetime64[ns]</td>\n",
              "      <td>[2016-06-01T00:00:00.000000000, 2016-06-02T00:...</td>\n",
              "    </tr>\n",
              "    <tr>\n",
              "      <th>4</th>\n",
              "      <td>transacted_time</td>\n",
              "      <td>1440</td>\n",
              "      <td>0</td>\n",
              "      <td>object</td>\n",
              "      <td>[13:13, 18:12, 18:52, 20:22, 11:06]</td>\n",
              "    </tr>\n",
              "    <tr>\n",
              "      <th>5</th>\n",
              "      <td>installment_term</td>\n",
              "      <td>34</td>\n",
              "      <td>0</td>\n",
              "      <td>int64</td>\n",
              "      <td>[0, 2, 3, 60, 4]</td>\n",
              "    </tr>\n",
              "    <tr>\n",
              "      <th>6</th>\n",
              "      <td>region</td>\n",
              "      <td>181</td>\n",
              "      <td>2042766</td>\n",
              "      <td>object</td>\n",
              "      <td>[nan, 서울 종로구, 충북 충주시, 부산 동래구, 경기 평택시]</td>\n",
              "    </tr>\n",
              "    <tr>\n",
              "      <th>7</th>\n",
              "      <td>type_of_business</td>\n",
              "      <td>146</td>\n",
              "      <td>3952609</td>\n",
              "      <td>object</td>\n",
              "      <td>[기타 미용업, nan, 의복 액세서리 및 모조 장신구 도매업, 한식 음식점업, 배...</td>\n",
              "    </tr>\n",
              "    <tr>\n",
              "      <th>8</th>\n",
              "      <td>amount</td>\n",
              "      <td>30551</td>\n",
              "      <td>0</td>\n",
              "      <td>float64</td>\n",
              "      <td>[1857.142857142857, 857.1428571428571, 2000.0,...</td>\n",
              "    </tr>\n",
              "  </tbody>\n",
              "</table>\n",
              "</div>"
            ],
            "text/plain": [
              "               name  num_of_unique  num_of_nan            type  \\\n",
              "0          store_id           1967           0           int64   \n",
              "1           card_id        3950001           0           int64   \n",
              "2      card_company              8           0          object   \n",
              "3   transacted_date           1003           0  datetime64[ns]   \n",
              "4   transacted_time           1440           0          object   \n",
              "5  installment_term             34           0           int64   \n",
              "6            region            181     2042766          object   \n",
              "7  type_of_business            146     3952609          object   \n",
              "8            amount          30551           0         float64   \n",
              "\n",
              "                                       front5_values  \n",
              "0                                    [0, 1, 2, 4, 5]  \n",
              "1                                    [0, 1, 2, 3, 4]  \n",
              "2                                    [b, h, c, a, f]  \n",
              "3  [2016-06-01T00:00:00.000000000, 2016-06-02T00:...  \n",
              "4                [13:13, 18:12, 18:52, 20:22, 11:06]  \n",
              "5                                   [0, 2, 3, 60, 4]  \n",
              "6              [nan, 서울 종로구, 충북 충주시, 부산 동래구, 경기 평택시]  \n",
              "7  [기타 미용업, nan, 의복 액세서리 및 모조 장신구 도매업, 한식 음식점업, 배...  \n",
              "8  [1857.142857142857, 857.1428571428571, 2000.0,...  "
            ]
          },
          "metadata": {
            "tags": []
          },
          "execution_count": 16
        }
      ]
    },
    {
      "cell_type": "markdown",
      "metadata": {
        "id": "Pt04O4MZnY5p",
        "colab_type": "text"
      },
      "source": [
        "#### 시계열 분석을 위해 date 정보 index로 변환"
      ]
    },
    {
      "cell_type": "code",
      "metadata": {
        "id": "pXLkt-7lle4S",
        "colab_type": "code",
        "colab": {
          "base_uri": "https://localhost:8080/",
          "height": 193
        },
        "outputId": "96829ada-2d99-4355-e9e1-3435ce39f506"
      },
      "source": [
        "df_train = df_train.set_index('transacted_date')\n",
        "df_train.head(3)"
      ],
      "execution_count": 17,
      "outputs": [
        {
          "output_type": "execute_result",
          "data": {
            "text/html": [
              "<div>\n",
              "<style scoped>\n",
              "    .dataframe tbody tr th:only-of-type {\n",
              "        vertical-align: middle;\n",
              "    }\n",
              "\n",
              "    .dataframe tbody tr th {\n",
              "        vertical-align: top;\n",
              "    }\n",
              "\n",
              "    .dataframe thead th {\n",
              "        text-align: right;\n",
              "    }\n",
              "</style>\n",
              "<table border=\"1\" class=\"dataframe\">\n",
              "  <thead>\n",
              "    <tr style=\"text-align: right;\">\n",
              "      <th></th>\n",
              "      <th>store_id</th>\n",
              "      <th>card_id</th>\n",
              "      <th>card_company</th>\n",
              "      <th>transacted_time</th>\n",
              "      <th>installment_term</th>\n",
              "      <th>region</th>\n",
              "      <th>type_of_business</th>\n",
              "      <th>amount</th>\n",
              "    </tr>\n",
              "    <tr>\n",
              "      <th>transacted_date</th>\n",
              "      <th></th>\n",
              "      <th></th>\n",
              "      <th></th>\n",
              "      <th></th>\n",
              "      <th></th>\n",
              "      <th></th>\n",
              "      <th></th>\n",
              "      <th></th>\n",
              "    </tr>\n",
              "  </thead>\n",
              "  <tbody>\n",
              "    <tr>\n",
              "      <th>2016-06-01</th>\n",
              "      <td>0</td>\n",
              "      <td>0</td>\n",
              "      <td>b</td>\n",
              "      <td>13:13</td>\n",
              "      <td>0</td>\n",
              "      <td>NaN</td>\n",
              "      <td>기타 미용업</td>\n",
              "      <td>1857.14286</td>\n",
              "    </tr>\n",
              "    <tr>\n",
              "      <th>2016-06-01</th>\n",
              "      <td>0</td>\n",
              "      <td>1</td>\n",
              "      <td>h</td>\n",
              "      <td>18:12</td>\n",
              "      <td>0</td>\n",
              "      <td>NaN</td>\n",
              "      <td>기타 미용업</td>\n",
              "      <td>857.14286</td>\n",
              "    </tr>\n",
              "    <tr>\n",
              "      <th>2016-06-01</th>\n",
              "      <td>0</td>\n",
              "      <td>2</td>\n",
              "      <td>c</td>\n",
              "      <td>18:52</td>\n",
              "      <td>0</td>\n",
              "      <td>NaN</td>\n",
              "      <td>기타 미용업</td>\n",
              "      <td>2000.00000</td>\n",
              "    </tr>\n",
              "  </tbody>\n",
              "</table>\n",
              "</div>"
            ],
            "text/plain": [
              "                 store_id  card_id card_company transacted_time  \\\n",
              "transacted_date                                                   \n",
              "2016-06-01              0        0            b           13:13   \n",
              "2016-06-01              0        1            h           18:12   \n",
              "2016-06-01              0        2            c           18:52   \n",
              "\n",
              "                 installment_term region type_of_business     amount  \n",
              "transacted_date                                                       \n",
              "2016-06-01                      0    NaN           기타 미용업 1857.14286  \n",
              "2016-06-01                      0    NaN           기타 미용업  857.14286  \n",
              "2016-06-01                      0    NaN           기타 미용업 2000.00000  "
            ]
          },
          "metadata": {
            "tags": []
          },
          "execution_count": 17
        }
      ]
    },
    {
      "cell_type": "markdown",
      "metadata": {
        "id": "az4hPj72nklY",
        "colab_type": "text"
      },
      "source": [
        "#### 시간 단위로 나뉘어져 있는 데이터 일단위로 resampling\n",
        "\n",
        "- `store_id` / `region` / `type_of_business` :  기존과 동일\n",
        "- `day_of_week` : 각 요일을 나타내는 숫자. 월요일은 0, 일요일은 6.\n",
        "- `business_day` : working day 여부. 1이면 working day.\n",
        "- `num_of_pay` : 일 결제 건수. `card_id`의 count로 생성\n",
        "- `num_of_revisit` : 단골 방문 횟수. `card_id`의 value 중 count >= 3 value의 결제 건수\n",
        "- `installment_term` : 일 총 할부 개월 수, 기존 `installment_term`의 합. (수정)\n",
        "- `amount` : 일 매출액. 기존 amount의 합. (수정)"
      ]
    },
    {
      "cell_type": "code",
      "metadata": {
        "id": "O9oc3TPxni0y",
        "colab_type": "code",
        "colab": {}
      },
      "source": [
        "def resample_day(train_df):\n",
        "  df_day = pd.DataFrame()\n",
        "\n",
        "  for i in train_df['store_id'].unique():\n",
        "    df_num = train_df[train_df['store_id']==i] # store_id 횟수 count\n",
        "\n",
        "    # 'card_id'의 일별 counting을 통해 일 거래 횟수 확인\n",
        "    # resample 함수의 rule='d'인 경우 일별 그룹이 가능해지고, count함수를 통해 unique값별로 빈도수 생성\n",
        "    count_cols = df_num['card_id'].resample(rule='d').count().rename('num_of_pay')\n",
        "\n",
        "    # 'card_id' value count >= 3이면 단골로 판단하고 단골 방문 횟수 확인\n",
        "    revisit_idx = df_num['card_id'].value_counts().reset_index().query('card_id > 2')['index'].values\n",
        "    revisit_ct = df_num[df_num['card_id'].isin(revisit_idx)]['card_id'].resample(rule='d').count().rename('num_of_revisit')\n",
        "\n",
        "    # 할부 개월수와 매출액은 일단위로 합\n",
        "    sum_cols = df_num[['installment_term', 'amount']].resample(rule='d').sum()\n",
        "    df_num_day = pd.concat([count_cols, revisit_ct, sum_cols], axis=1)\n",
        "\n",
        "    # 매장 id, 지역, 업종 분류 추가\n",
        "    df_num_day.insert(0, 'store_id', i)\n",
        "    df_num_day.insert(4, 'region', df_num[df_num['store_id']==i]['region'].unique()[0])\n",
        "    df_num_day.insert(5, 'type_of_business', df_num[df_num['store_id']==i]['type_of_business'].unique()[0])\n",
        "\n",
        "    df_day = pd.concat([df_day, df_num_day], axis=0)\n",
        "\n",
        "  df_day.insert(1, 'day_of_week', df_day.index.dayofweek) #df_day가 일별로 묶여 index에 들어가있음\n",
        "  df_day.insert(2, 'business_day', df_day['day_of_week'].replace({0:1, 2:1, 3:1, 4:1, 5:0, 6:0}).values)\n",
        "  df_day['num_of_revisit'].fillna(0, inplace=True)\n",
        "\n",
        "  return df_day"
      ],
      "execution_count": 21,
      "outputs": []
    },
    {
      "cell_type": "code",
      "metadata": {
        "id": "dSFaoAbexGPR",
        "colab_type": "code",
        "colab": {
          "base_uri": "https://localhost:8080/",
          "height": 53
        },
        "outputId": "8ac0fb47-60c0-4848-a1e5-d615c048c0b1"
      },
      "source": [
        "%%time\n",
        "df_day = resample_day(df_train)"
      ],
      "execution_count": 22,
      "outputs": [
        {
          "output_type": "stream",
          "text": [
            "CPU times: user 3min 29s, sys: 4.86 s, total: 3min 33s\n",
            "Wall time: 3min 34s\n"
          ],
          "name": "stdout"
        }
      ]
    },
    {
      "cell_type": "code",
      "metadata": {
        "id": "Kv3UhbgYxbJG",
        "colab_type": "code",
        "colab": {
          "base_uri": "https://localhost:8080/",
          "height": 255
        },
        "outputId": "c05e860b-f6fb-4d5d-b50c-d0c024c81bc4"
      },
      "source": [
        "df_day.head()"
      ],
      "execution_count": 23,
      "outputs": [
        {
          "output_type": "execute_result",
          "data": {
            "text/html": [
              "<div>\n",
              "<style scoped>\n",
              "    .dataframe tbody tr th:only-of-type {\n",
              "        vertical-align: middle;\n",
              "    }\n",
              "\n",
              "    .dataframe tbody tr th {\n",
              "        vertical-align: top;\n",
              "    }\n",
              "\n",
              "    .dataframe thead th {\n",
              "        text-align: right;\n",
              "    }\n",
              "</style>\n",
              "<table border=\"1\" class=\"dataframe\">\n",
              "  <thead>\n",
              "    <tr style=\"text-align: right;\">\n",
              "      <th></th>\n",
              "      <th>store_id</th>\n",
              "      <th>day_of_week</th>\n",
              "      <th>business_day</th>\n",
              "      <th>num_of_pay</th>\n",
              "      <th>num_of_revisit</th>\n",
              "      <th>installment_term</th>\n",
              "      <th>region</th>\n",
              "      <th>type_of_business</th>\n",
              "      <th>amount</th>\n",
              "    </tr>\n",
              "    <tr>\n",
              "      <th>transacted_date</th>\n",
              "      <th></th>\n",
              "      <th></th>\n",
              "      <th></th>\n",
              "      <th></th>\n",
              "      <th></th>\n",
              "      <th></th>\n",
              "      <th></th>\n",
              "      <th></th>\n",
              "      <th></th>\n",
              "    </tr>\n",
              "  </thead>\n",
              "  <tbody>\n",
              "    <tr>\n",
              "      <th>2016-06-01</th>\n",
              "      <td>0</td>\n",
              "      <td>2</td>\n",
              "      <td>1</td>\n",
              "      <td>4</td>\n",
              "      <td>4.00000</td>\n",
              "      <td>0</td>\n",
              "      <td>NaN</td>\n",
              "      <td>기타 미용업</td>\n",
              "      <td>12571.42857</td>\n",
              "    </tr>\n",
              "    <tr>\n",
              "      <th>2016-06-02</th>\n",
              "      <td>0</td>\n",
              "      <td>3</td>\n",
              "      <td>1</td>\n",
              "      <td>7</td>\n",
              "      <td>3.00000</td>\n",
              "      <td>0</td>\n",
              "      <td>NaN</td>\n",
              "      <td>기타 미용업</td>\n",
              "      <td>40571.42857</td>\n",
              "    </tr>\n",
              "    <tr>\n",
              "      <th>2016-06-03</th>\n",
              "      <td>0</td>\n",
              "      <td>4</td>\n",
              "      <td>1</td>\n",
              "      <td>3</td>\n",
              "      <td>2.00000</td>\n",
              "      <td>0</td>\n",
              "      <td>NaN</td>\n",
              "      <td>기타 미용업</td>\n",
              "      <td>18142.85714</td>\n",
              "    </tr>\n",
              "    <tr>\n",
              "      <th>2016-06-04</th>\n",
              "      <td>0</td>\n",
              "      <td>5</td>\n",
              "      <td>0</td>\n",
              "      <td>7</td>\n",
              "      <td>3.00000</td>\n",
              "      <td>0</td>\n",
              "      <td>NaN</td>\n",
              "      <td>기타 미용업</td>\n",
              "      <td>31714.28571</td>\n",
              "    </tr>\n",
              "    <tr>\n",
              "      <th>2016-06-05</th>\n",
              "      <td>0</td>\n",
              "      <td>6</td>\n",
              "      <td>0</td>\n",
              "      <td>3</td>\n",
              "      <td>3.00000</td>\n",
              "      <td>0</td>\n",
              "      <td>NaN</td>\n",
              "      <td>기타 미용업</td>\n",
              "      <td>10428.57143</td>\n",
              "    </tr>\n",
              "  </tbody>\n",
              "</table>\n",
              "</div>"
            ],
            "text/plain": [
              "                 store_id  day_of_week  business_day  num_of_pay  \\\n",
              "transacted_date                                                    \n",
              "2016-06-01              0            2             1           4   \n",
              "2016-06-02              0            3             1           7   \n",
              "2016-06-03              0            4             1           3   \n",
              "2016-06-04              0            5             0           7   \n",
              "2016-06-05              0            6             0           3   \n",
              "\n",
              "                 num_of_revisit  installment_term region type_of_business  \\\n",
              "transacted_date                                                             \n",
              "2016-06-01              4.00000                 0    NaN           기타 미용업   \n",
              "2016-06-02              3.00000                 0    NaN           기타 미용업   \n",
              "2016-06-03              2.00000                 0    NaN           기타 미용업   \n",
              "2016-06-04              3.00000                 0    NaN           기타 미용업   \n",
              "2016-06-05              3.00000                 0    NaN           기타 미용업   \n",
              "\n",
              "                     amount  \n",
              "transacted_date              \n",
              "2016-06-01      12571.42857  \n",
              "2016-06-02      40571.42857  \n",
              "2016-06-03      18142.85714  \n",
              "2016-06-04      31714.28571  \n",
              "2016-06-05      10428.57143  "
            ]
          },
          "metadata": {
            "tags": []
          },
          "execution_count": 23
        }
      ]
    },
    {
      "cell_type": "code",
      "metadata": {
        "id": "jGOZTpg2y1BI",
        "colab_type": "code",
        "colab": {
          "base_uri": "https://localhost:8080/",
          "height": 197
        },
        "outputId": "d858cca1-8159-42a9-b477-e17dee86e283"
      },
      "source": [
        "df_day.isnull().sum()"
      ],
      "execution_count": 24,
      "outputs": [
        {
          "output_type": "execute_result",
          "data": {
            "text/plain": [
              "store_id                  0\n",
              "day_of_week               0\n",
              "business_day              0\n",
              "num_of_pay                0\n",
              "num_of_revisit            0\n",
              "installment_term          0\n",
              "region               629927\n",
              "type_of_business    1087791\n",
              "amount                    0\n",
              "dtype: int64"
            ]
          },
          "metadata": {
            "tags": []
          },
          "execution_count": 24
        }
      ]
    },
    {
      "cell_type": "code",
      "metadata": {
        "id": "I4y4jQg5y8Q1",
        "colab_type": "code",
        "colab": {}
      },
      "source": [
        "df_day.to_csv('preprocessed.csv')"
      ],
      "execution_count": 25,
      "outputs": []
    },
    {
      "cell_type": "code",
      "metadata": {
        "id": "dLXaaVzTzACB",
        "colab_type": "code",
        "colab": {}
      },
      "source": [
        ""
      ],
      "execution_count": null,
      "outputs": []
    }
  ]
}